{
 "cells": [
  {
   "cell_type": "code",
   "execution_count": 1,
   "id": "ea7f6e96",
   "metadata": {},
   "outputs": [],
   "source": [
    "from langchain_community.llms import Ollama"
   ]
  },
  {
   "cell_type": "code",
   "execution_count": 2,
   "id": "82b9f360",
   "metadata": {},
   "outputs": [
    {
     "name": "stderr",
     "output_type": "stream",
     "text": [
      "/var/folders/90/p8kgtvm572d51cr90k19v_580000gn/T/ipykernel_88230/3387309573.py:1: LangChainDeprecationWarning: The class `Ollama` was deprecated in LangChain 0.3.1 and will be removed in 1.0.0. An updated version of the class exists in the :class:`~langchain-ollama package and should be used instead. To use it run `pip install -U :class:`~langchain-ollama` and import as `from :class:`~langchain_ollama import OllamaLLM``.\n",
      "  llm = Ollama(model=\"llama3\")\n"
     ]
    },
    {
     "name": "stdout",
     "output_type": "stream",
     "text": [
      "What a unique request! Here are some fun Instagram Reel ideas about AWS S3:\n",
      "\n",
      "1. **\"Before and After\" Storage**: Show a \"before\" example of storing files on your local machine (e.g., a messy desktop) and then demonstrate how S3 can keep your files organized and easily accessible with a simple upload.\n",
      "2. **S3 Bucket Tour**: Create a Reel that takes viewers on a virtual tour of an S3 bucket, highlighting its features and capabilities, such as storing large files, using folders, and configuring permissions.\n",
      "3. **\"Cloud Storage Challenges\"**: Imagine you're planning a trip and need to store your travel documents (e.g., passport, tickets). Show how easily you can upload these documents to S3 and then access them from anywhere, highlighting the convenience and security of cloud storage.\n",
      "4. **\"How-To\" Upload Video**: Create a step-by-step guide on uploading files to S3 using AWS Management Console or the AWS CLI. Make it engaging by adding fun animations, transitions, and a clear narrative.\n",
      "5. **\"S3 vs. Local Storage\" Comparison**: Compare storing files on your local machine (e.g., hard drive) versus using S3 for storage. Highlight the benefits of cloud storage, such as scalability, reliability, and accessibility, and how S3 can help you avoid data loss or corruption.\n",
      "6. **AWS S3 Gaming Challenge**: Create a Reel that gamifies learning about S3. For example, you could hide files in an S3 bucket and challenge viewers to find them by solving puzzles or answering trivia questions related to AWS S3 features and best practices.\n",
      "7. **\"Top 5 S3 Features\" Countdown**: Count down the top 5 features of AWS S3 that make it a powerful tool for storing and serving data. Use engaging visuals, animations, and a fun narrative to highlight each feature's benefits and use cases.\n",
      "8. **S3 Security Demo**: Showcase the security features of S3, such as encryption, access control lists (ACLs), and bucket policies. Demonstrate how these features can help protect your files from unauthorized access or data breaches.\n",
      "\n",
      "Remember to keep your Reels engaging, informative, and visually appealing. You can use a mix of text overlays, animations, and graphics to make them more interesting and shareable.\n"
     ]
    }
   ],
   "source": [
    "llm = Ollama(model=\"llama3\")\n",
    "response = llm.invoke(\"What's a fun Instagram reel idea about AWS S3?\")\n",
    "print(response)"
   ]
  }
 ],
 "metadata": {
  "kernelspec": {
   "display_name": "base",
   "language": "python",
   "name": "python3"
  },
  "language_info": {
   "codemirror_mode": {
    "name": "ipython",
    "version": 3
   },
   "file_extension": ".py",
   "mimetype": "text/x-python",
   "name": "python",
   "nbconvert_exporter": "python",
   "pygments_lexer": "ipython3",
   "version": "3.11.4"
  }
 },
 "nbformat": 4,
 "nbformat_minor": 5
}
