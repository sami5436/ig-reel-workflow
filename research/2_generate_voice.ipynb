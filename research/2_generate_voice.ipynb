{
 "cells": [
  {
   "cell_type": "markdown",
   "id": "fa05d037",
   "metadata": {},
   "source": [
    "This will be focused on generating the voice locally.\n",
    "- the script will be passed on (or queried in the vector db )"
   ]
  },
  {
   "cell_type": "code",
   "execution_count": null,
   "id": "1f928d64",
   "metadata": {},
   "outputs": [],
   "source": [
    "from TTS.api import TTS"
   ]
  }
 ],
 "metadata": {
  "kernelspec": {
   "display_name": "base",
   "language": "python",
   "name": "python3"
  },
  "language_info": {
   "name": "python",
   "version": "3.12.4"
  }
 },
 "nbformat": 4,
 "nbformat_minor": 5
}
