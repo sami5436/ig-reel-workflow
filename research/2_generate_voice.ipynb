{
 "cells": [
  {
   "cell_type": "markdown",
   "id": "fa05d037",
   "metadata": {},
   "source": [
    "This will be focused on generating the voice locally.\n",
    "- the script will be passed on (or queried in the vector db from the latest entry )\n",
    "- then call the TTS api to actually convert it into an mp3"
   ]
  },
  {
   "cell_type": "code",
   "execution_count": 31,
   "id": "1f928d64",
   "metadata": {},
   "outputs": [],
   "source": [
    "from TTS.api import TTS\n",
    "import soundfile as sf\n",
    "import librosa"
   ]
  },
  {
   "cell_type": "code",
   "execution_count": 32,
   "id": "f13edcb0",
   "metadata": {},
   "outputs": [],
   "source": [
    "from langchain_community.llms import Ollama # will be used for prompting\n",
    "from langchain.vectorstores import Chroma # will be used for vectordb store\n",
    "from langchain_ollama import OllamaEmbeddings\n",
    "from langchain.schema import Document # will be used to store text in vector store \n",
    "import os"
   ]
  },
  {
   "cell_type": "code",
   "execution_count": 33,
   "id": "e51fdde1",
   "metadata": {},
   "outputs": [],
   "source": [
    "llm = Ollama(model=\"llama3\")\n",
    "embedding = OllamaEmbeddings(model=\"llama3\")\n",
    "PERSIST_DIR = \"vectordb\"\n",
    "db = Chroma(persist_directory=PERSIST_DIR, embedding_function=embedding)"
   ]
  },
  {
   "cell_type": "code",
   "execution_count": 34,
   "id": "088fdbf1",
   "metadata": {},
   "outputs": [],
   "source": [
    "from langchain.schema import Document  # or adjust import to your LangChain version\n",
    "\n",
    "def get_most_recent_unprocessed_idea(db):\n",
    "    results = db.get(include=[\"documents\", \"metadatas\"])\n",
    "\n",
    "    unprocessed = [\n",
    "        (meta[\"timestamp\"], Document(page_content=doc, metadata=meta))\n",
    "        for meta, doc in zip(results[\"metadatas\"], results[\"documents\"])\n",
    "        if not meta.get(\"processed\", False)\n",
    "    ]\n",
    "\n",
    "    if not unprocessed:\n",
    "        print(\"No unprocessed ideas found.\")\n",
    "        return None\n",
    "\n",
    "    unprocessed_sorted = sorted(unprocessed, key=lambda x: x[0], reverse=True)\n",
    "    _, document = unprocessed_sorted[0]\n",
    "\n",
    "    print(f\"Most recent unprocessed idea ID: {document.metadata.get('id')}\")\n",
    "    return document\n"
   ]
  },
  {
   "cell_type": "code",
   "execution_count": 35,
   "id": "f0c7d1d8",
   "metadata": {},
   "outputs": [
    {
     "name": "stdout",
     "output_type": "stream",
     "text": [
      "Most recent unprocessed idea ID: 45a68668-ca97-4a70-b313-8d2cbb0c3d0d\n",
      "Here's a brand new script idea for an AWS-related Instagram video:\n",
      "\n",
      "**Title:** \"Unlocking Serverless Power with AWS Lambda\"\n",
      "\n",
      "**Hook:** \"Ready to level up your app development game? Let's talk about serverless computing and how AWS Lambda can revolutionize the way you build!\"\n",
      "\n",
      "**What it is:** \"AWS Lambda is a serverless compute service that runs your code in response to events, without you having to manage any servers. Think of it like a superhero sidekick – it does all the heavy lifting so you can focus on writing amazing apps!\"\n",
      "\n",
      "**When to use it:** \"Use AWS Lambda when you need to process data streams, handle API requests, or integrate with other services like Alexa or Google Assistant. It's perfect for real-time analytics, IoT, or machine learning projects where scalability and reliability are key.\"\n",
      "\n",
      "**How to use it (high-level):** \"To get started, simply define your function in code, upload it to AWS Lambda, and configure the triggers that set off your code execution. Voilà – your app is now serverless!\"\n",
      "\n",
      "**Bonus tip:** \"Did you know that AWS Lambda supports up to 15 minutes of execution time? That's plenty of time for complex computations or even training machine learning models on the fly\"\n",
      "\n",
      "**Call to Action:** \"Now it's your turn! Share with us how you've used AWS Lambda (or want to start using it) in the comments below. Tag a fellow developer who needs to know about this game-changing technology #ServerlessPower #AWSLambda\"\n",
      "\n",
      "This script aims to introduce viewers to the concept of serverless computing and the benefits of using AWS Lambda, while also providing some practical examples of when and how to use it. The bonus tip adds an interesting fact that might surprise or intrigue viewers, and the call to action encourages engagement and community building around the topic.\n"
     ]
    }
   ],
   "source": [
    "most_recent_idea = get_most_recent_unprocessed_idea(db)\n",
    "if most_recent_idea:\n",
    "    print(most_recent_idea.page_content) \n"
   ]
  },
  {
   "cell_type": "code",
   "execution_count": 36,
   "id": "01cf8737",
   "metadata": {},
   "outputs": [
    {
     "name": "stdout",
     "output_type": "stream",
     "text": [
      " > tts_models/en/ljspeech/glow-tts is already downloaded.\n",
      " > vocoder_models/en/ljspeech/multiband-melgan is already downloaded.\n",
      " > Using model: glow_tts\n",
      " > Setting up Audio Processor...\n",
      " | > sample_rate:22050\n",
      " | > resample:False\n",
      " | > num_mels:80\n",
      " | > log_func:np.log10\n",
      " | > min_level_db:-100\n",
      " | > frame_shift_ms:None\n",
      " | > frame_length_ms:None\n",
      " | > ref_level_db:0\n",
      " | > fft_size:1024\n",
      " | > power:1.1\n",
      " | > preemphasis:0.0\n",
      " | > griffin_lim_iters:60\n",
      " | > signal_norm:False\n",
      " | > symmetric_norm:True\n",
      " | > mel_fmin:50.0\n",
      " | > mel_fmax:7600.0\n",
      " | > pitch_fmin:1.0\n",
      " | > pitch_fmax:640.0\n",
      " | > spec_gain:1.0\n",
      " | > stft_pad_mode:reflect\n",
      " | > max_norm:1.0\n",
      " | > clip_norm:True\n",
      " | > do_trim_silence:True\n",
      " | > trim_db:60\n",
      " | > do_sound_norm:False\n",
      " | > do_amp_to_db_linear:True\n",
      " | > do_amp_to_db_mel:True\n",
      " | > do_rms_norm:False\n",
      " | > db_level:None\n",
      " | > stats_path:None\n",
      " | > base:10\n",
      " | > hop_length:256\n",
      " | > win_length:1024\n",
      " > Vocoder Model: multiband_melgan\n",
      " > Setting up Audio Processor...\n",
      " | > sample_rate:22050\n",
      " | > resample:False\n",
      " | > num_mels:80\n",
      " | > log_func:np.log10\n",
      " | > min_level_db:-100\n",
      " | > frame_shift_ms:None\n",
      " | > frame_length_ms:None\n",
      " | > ref_level_db:0\n",
      " | > fft_size:1024\n",
      " | > power:1.5\n",
      " | > preemphasis:0.0\n",
      " | > griffin_lim_iters:60\n",
      " | > signal_norm:True\n",
      " | > symmetric_norm:True\n",
      " | > mel_fmin:50.0\n",
      " | > mel_fmax:7600.0\n",
      " | > pitch_fmin:0.0\n",
      " | > pitch_fmax:640.0\n",
      " | > spec_gain:1.0\n",
      " | > stft_pad_mode:reflect\n",
      " | > max_norm:4.0\n",
      " | > clip_norm:True\n",
      " | > do_trim_silence:True\n",
      " | > trim_db:60\n",
      " | > do_sound_norm:False\n",
      " | > do_amp_to_db_linear:True\n",
      " | > do_amp_to_db_mel:True\n",
      " | > do_rms_norm:False\n",
      " | > db_level:None\n",
      " | > stats_path:/Users/samihamdalla/Library/Application Support/tts/vocoder_models--en--ljspeech--multiband-melgan/scale_stats.npy\n",
      " | > base:10\n",
      " | > hop_length:256\n",
      " | > win_length:1024\n",
      " > Generator Model: multiband_melgan_generator\n",
      " > Discriminator Model: melgan_multiscale_discriminator\n",
      " > Text splitted to sentences.\n",
      "[\"Here's a brand new script idea for an AWS-related Instagram video:\", '**Title:** \"Unlocking Serverless Power with AWS Lambda\"', '**Hook:** \"Ready to level up your app development game? Let\\'s talk about serverless computing and how AWS Lambda can revolutionize the way you build!\"', '**What it is:** \"AWS Lambda is a serverless compute service that runs your code in response to events, without you having to manage any servers. Think of it like a superhero sidekick – it does all the heavy lifting so you can focus on writing amazing apps!\"', '**When to use it:** \"Use AWS Lambda when you need to process data streams, handle API requests, or integrate with other services like Alexa or Google Assistant. It\\'s perfect for real-time analytics, IoT, or machine learning projects where scalability and reliability are key.\"', '**How to use it (high-level):** \"To get started, simply define your function in code, upload it to AWS Lambda, and configure the triggers that set off your code execution. Voilà – your app is now serverless!\"', '**Bonus tip:** \"Did you know that AWS Lambda supports up to 15 minutes of execution time? That\\'s plenty of time for complex computations or even training machine learning models on the fly\"', '**Call to Action:** \"Now it\\'s your turn! Share with us how you\\'ve used AWS Lambda (or want to start using it) in the comments below. Tag a fellow developer who needs to know about this game-changing technology #ServerlessPower #AWSLambda\"', 'This script aims to introduce viewers to the concept of serverless computing and the benefits of using AWS Lambda, while also providing some practical examples of when and how to use it.', 'The bonus tip adds an interesting fact that might surprise or intrigue viewers, and the call to action encourages engagement and community building around the topic.']\n",
      "wʌt ɪt ɪz,eɪ dʌbəlju ɛs læmdə ɪz ə sɚvɚləs kəmpjut sɚvɪs ðæt ɹʌnz jʊɹ koʊd ɪn ɹɪspɑns tə ɪvɛnts, wɪðaʊt ju hævɪŋ tə mænɪd͡ʒ ɛni sɚvɚz. θɪŋk əv ɪt laɪk ə supɚhɪɹoʊ saɪdkɪk ɪt dʌz ɔl ðə hɛvi lɪftɪŋ soʊ ju kən foʊkəs ɔn ɹaɪtɪŋ əmeɪzɪŋ æps!\n",
      " [!] Character '͡' not found in the vocabulary. Discarding it.\n",
      " > Processing time: 3.8344671726226807\n",
      " > Real-time factor: 0.029629905197036278\n"
     ]
    }
   ],
   "source": [
    "tts = TTS(model_name=\"tts_models/en/ljspeech/glow-tts\", progress_bar=False, gpu=False)\n",
    "\n",
    "# Generate audio\n",
    "tts.tts_to_file(\n",
    "    text=most_recent_idea.page_content,\n",
    "    file_path=\"output_raw.wav\"\n",
    ")\n",
    "\n",
    "# Speed up to 1.5x\n",
    "y, sr = librosa.load(\"output_raw.wav\", sr=None)\n",
    "y_fast = librosa.effects.time_stretch(y, rate=1.5)\n",
    "sf.write(\"output.wav\", y_fast, sr)"
   ]
  }
 ],
 "metadata": {
  "kernelspec": {
   "display_name": "ig-reel-env",
   "language": "python",
   "name": "python3"
  },
  "language_info": {
   "codemirror_mode": {
    "name": "ipython",
    "version": 3
   },
   "file_extension": ".py",
   "mimetype": "text/x-python",
   "name": "python",
   "nbconvert_exporter": "python",
   "pygments_lexer": "ipython3",
   "version": "3.11.13"
  }
 },
 "nbformat": 4,
 "nbformat_minor": 5
}
