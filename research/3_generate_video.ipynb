{
 "cells": [
  {
   "cell_type": "code",
   "execution_count": null,
   "id": "b938c950",
   "metadata": {},
   "outputs": [],
   "source": [
    "import subprocess\n",
    "import imageio_ffmpeg\n",
    "import os"
   ]
  },
  {
   "cell_type": "code",
   "execution_count": 4,
   "id": "5cb43d6c",
   "metadata": {},
   "outputs": [],
   "source": [
    "def download_subway_video():\n",
    "    url = \"https://www.youtube.com/watch?v=RbVMiu4ubT0\"\n",
    "    \n",
    "    command = (\n",
    "        'yt-dlp '\n",
    "        '-f \"bv*+ba/b\" '                          # Best video+audio combined (fallback: best)\n",
    "        '--merge-output-format mp4 '              # Merge into MP4 if separate streams\n",
    "        '--user-agent \"Mozilla/5.0\" '             # Bypass some 403 errors\n",
    "        '--no-playlist '                          # Avoid playlist downloading\n",
    "        '-o \"subway.mp4\" '                        # Output filename\n",
    "        f'\"{url}\"'\n",
    "    )\n",
    "    \n",
    "    os.system(command)\n"
   ]
  },
  {
   "cell_type": "code",
   "execution_count": 5,
   "id": "0910e2f3",
   "metadata": {},
   "outputs": [
    {
     "name": "stdout",
     "output_type": "stream",
     "text": [
      "[youtube] Extracting URL: https://www.youtube.com/watch?v=RbVMiu4ubT0\n",
      "[youtube] RbVMiu4ubT0: Downloading webpage\n",
      "[youtube] RbVMiu4ubT0: Downloading tv client config\n",
      "[youtube] RbVMiu4ubT0: Downloading tv player API JSON\n",
      "[youtube] RbVMiu4ubT0: Downloading ios player API JSON\n",
      "[youtube] RbVMiu4ubT0: Downloading m3u8 information\n",
      "[info] RbVMiu4ubT0: Downloading 1 format(s): 303+251\n",
      "[download] Destination: subway.f303.webm\n",
      "[download] 100% of   73.48MiB in 00:00:06 at 11.64MiB/s    \n",
      "[download] Destination: subway.f251.webm\n",
      "[download] 100% of   64.54KiB in 00:00:00 at 1.12MiB/s     \n",
      "[Merger] Merging formats into \"subway.mp4\"\n",
      "Deleting original file subway.f303.webm (pass -k to keep)\n",
      "Deleting original file subway.f251.webm (pass -k to keep)\n"
     ]
    }
   ],
   "source": [
    "download_subway_video()"
   ]
  },
  {
   "cell_type": "code",
   "execution_count": 6,
   "id": "975a4e09",
   "metadata": {},
   "outputs": [
    {
     "name": "stdout",
     "output_type": "stream",
     "text": [
      "🎬 Processing video with audio and subtitles...\n",
      "📹 Video: subway.mp4\n",
      "🔊 Audio: output.wav\n",
      "📝 Subtitles: output.srt\n",
      "🎯 Output: output_final.mp4\n",
      "✨ Enhanced subtitle styling: Arial font, transparent background, word highlighting support\n",
      "✅ Final video saved to output_final.mp4\n",
      "📊 Output file size: 64.4 MB\n"
     ]
    }
   ],
   "source": [
    "def burn_audio_and_subtitles(video_path=\"subway.mp4\", audio_path=\"output.wav\", subtitle_path=\"output.srt\", output_path=\"output_final.mp4\"):\n",
    "    # Check if input files exist\n",
    "    if not os.path.exists(video_path):\n",
    "        print(f\"Video file not found: {video_path}\")\n",
    "        return\n",
    "    if not os.path.exists(audio_path):\n",
    "        print(f\"Audio file not found: {audio_path}\")\n",
    "        return\n",
    "    if not os.path.exists(subtitle_path):\n",
    "        print(f\"Subtitle file not found: {subtitle_path}\")\n",
    "        return\n",
    "    \n",
    "    ffmpeg_path = imageio_ffmpeg.get_ffmpeg_exe()\n",
    "    \n",
    "    subtitle_style = (\n",
    "        \"FontName=Arial,\"\n",
    "        \"FontSize=20,\"\n",
    "        \"PrimaryColour=&Hffffff&,\"\n",
    "        \"SecondaryColour=&Hffff00&,\"\n",
    "        \"OutlineColour=&H000000&,\"\n",
    "        \"BackColour=&H00000000&,\"\n",
    "        \"BorderStyle=1,\"\n",
    "        \"Outline=2,\"\n",
    "        \"Shadow=1,\"\n",
    "        \"MarginV=30,\"\n",
    "        \"Alignment=2\"\n",
    "    )\n",
    "    \n",
    "    # Improved command with better audio handling and enhanced subtitle styling\n",
    "    command = [\n",
    "        ffmpeg_path,\n",
    "        \"-i\", video_path,              # input video\n",
    "        \"-i\", audio_path,              # input audio\n",
    "        \"-vf\", f\"subtitles={subtitle_path}:force_style='{subtitle_style}'\",  # burn subtitles with enhanced styling\n",
    "        \"-c:v\", \"libx264\",             # video codec\n",
    "        \"-c:a\", \"aac\",                 # audio codec\n",
    "        \"-b:a\", \"192k\",                # audio bitrate\n",
    "        \"-map\", \"0:v:0\",               # map video from first input\n",
    "        \"-map\", \"1:a:0\",               # map audio from second input (our generated audio)\n",
    "        \"-shortest\",                   # stop when shortest stream ends\n",
    "        \"-y\",                          # overwrite output file\n",
    "        output_path\n",
    "    ]\n",
    "\n",
    "\n",
    "    \n",
    "    try:\n",
    "        result = subprocess.run(command, check=True, capture_output=True, text=True)\n",
    "        print(f\"Final video saved to {output_path}\")\n",
    "        \n",
    "        # Check if output file was created and has reasonable size\n",
    "        if os.path.exists(output_path):\n",
    "            file_size = os.path.getsize(output_path) / (1024 * 1024)  # MB\n",
    "            print(f\"Output file size: {file_size:.1f} MB\")\n",
    "        else:\n",
    "            print(\"Output file was not created\")\n",
    "            \n",
    "    except subprocess.CalledProcessError as e:\n",
    "        print(f\"FFmpeg error: {e}\")\n",
    "        print(f\"Error output: {e.stderr}\")\n",
    "    except Exception as e:\n",
    "        print(f\"Unexpected error: {e}\")\n",
    "\n",
    "# Run it\n",
    "burn_audio_and_subtitles()"
   ]
  }
 ],
 "metadata": {
  "kernelspec": {
   "display_name": "ig-reel-env",
   "language": "python",
   "name": "python3"
  },
  "language_info": {
   "codemirror_mode": {
    "name": "ipython",
    "version": 3
   },
   "file_extension": ".py",
   "mimetype": "text/x-python",
   "name": "python",
   "nbconvert_exporter": "python",
   "pygments_lexer": "ipython3",
   "version": "3.11.13"
  }
 },
 "nbformat": 4,
 "nbformat_minor": 5
}
