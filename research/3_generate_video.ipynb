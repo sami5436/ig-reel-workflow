{
 "cells": [
  {
   "cell_type": "code",
   "execution_count": 1,
   "id": "51e37556",
   "metadata": {},
   "outputs": [],
   "source": [
    "import os"
   ]
  },
  {
   "cell_type": "code",
   "execution_count": 2,
   "id": "5cb43d6c",
   "metadata": {},
   "outputs": [],
   "source": [
    "import os\n",
    "\n",
    "def download_subway_video():\n",
    "    url = \"https://www.youtube.com/watch?v=RbVMiu4ubT0\"  # Replace with your chosen Subway video\n",
    "    os.system(f'yt-dlp -f bestvideo[ext=mp4] --no-playlist \"{url}\" -o subway.mp4')\n"
   ]
  },
  {
   "cell_type": "code",
   "execution_count": 3,
   "id": "0910e2f3",
   "metadata": {},
   "outputs": [
    {
     "name": "stdout",
     "output_type": "stream",
     "text": [
      "[youtube] Extracting URL: https://www.youtube.com/watch?v=RbVMiu4ubT0\n",
      "[youtube] RbVMiu4ubT0: Downloading webpage\n",
      "[youtube] RbVMiu4ubT0: Downloading tv client config\n",
      "[youtube] RbVMiu4ubT0: Downloading player 9fe2e06e-main\n",
      "[youtube] RbVMiu4ubT0: Downloading tv player API JSON\n",
      "[youtube] RbVMiu4ubT0: Downloading ios player API JSON\n",
      "[youtube] RbVMiu4ubT0: Downloading m3u8 information\n",
      "[info] RbVMiu4ubT0: Downloading 1 format(s): 617\n",
      "[hlsnative] Downloading m3u8 manifest\n",
      "[hlsnative] Total fragments: 29\n",
      "[download] Destination: subway.mp4\n",
      "[download] 100% of   73.52MiB in 00:00:06 at 10.74MiB/s                 \n"
     ]
    },
    {
     "name": "stderr",
     "output_type": "stream",
     "text": [
      "WARNING: RbVMiu4ubT0: Possible MPEG-TS in MP4 container or malformed AAC timestamps. Install ffmpeg to fix this automatically\n"
     ]
    }
   ],
   "source": [
    "download_subway_video()"
   ]
  },
  {
   "cell_type": "code",
   "execution_count": 4,
   "id": "56ecd924",
   "metadata": {},
   "outputs": [],
   "source": [
    "import subprocess"
   ]
  },
  {
   "cell_type": "code",
   "execution_count": 12,
   "id": "975a4e09",
   "metadata": {},
   "outputs": [
    {
     "name": "stderr",
     "output_type": "stream",
     "text": [
      "ffmpeg version 7.1 Copyright (c) 2000-2024 the FFmpeg developers\n",
      "  built with Apple clang version 13.1.6 (clang-1316.0.21.2.5)\n",
      "  configuration: --prefix=/Volumes/tempdisk/sw --extra-cflags=-fno-stack-check --arch=arm64 --cc=/usr/bin/clang --enable-gpl --enable-libvmaf --enable-libopenjpeg --enable-libopus --enable-libmp3lame --enable-libx264 --enable-libx265 --enable-libvpx --enable-libwebp --enable-libass --enable-libfreetype --enable-fontconfig --enable-libtheora --enable-libvorbis --enable-libsnappy --enable-libaom --enable-libvidstab --enable-libzimg --enable-libsvtav1 --enable-libharfbuzz --enable-libkvazaar --pkg-config-flags=--static --enable-ffplay --enable-postproc --enable-neon --enable-runtime-cpudetect --disable-indev=qtkit --disable-indev=x11grab_xcb\n",
      "  libavutil      59. 39.100 / 59. 39.100\n",
      "  libavcodec     61. 19.100 / 61. 19.100\n",
      "  libavformat    61.  7.100 / 61.  7.100\n",
      "  libavdevice    61.  3.100 / 61.  3.100\n",
      "  libavfilter    10.  4.100 / 10.  4.100\n",
      "  libswscale      8.  3.100 /  8.  3.100\n",
      "  libswresample   5.  3.100 /  5.  3.100\n",
      "  libpostproc    58.  3.100 / 58.  3.100\n",
      "Input #0, mov,mp4,m4a,3gp,3g2,mj2, from 'subway.mp4':\n",
      "  Metadata:\n",
      "    major_brand     : dash\n",
      "    minor_version   : 0\n",
      "    compatible_brands: iso6mp41\n",
      "    creation_time   : 2025-06-22T17:02:06.000000Z\n",
      "  Duration: 00:02:25.38, start: 0.000000, bitrate: 4242 kb/s\n",
      "  Stream #0:0[0x1](und): Video: vp9 (Profile 0) (vp09 / 0x39307076), yuv420p(tv, bt709), 1080x1920, 4236 kb/s, 60.01 fps, 60 tbr, 1k tbn (default)\n",
      "      Metadata:\n",
      "        creation_time   : 2025-06-22T17:02:06.000000Z\n",
      "        handler_name    : ISO Media file produced by Google Inc. Created on: 06/22/2025.\n",
      "        vendor_id       : [0][0][0][0]\n",
      "[aist#1:0/pcm_s16le @ 0x152017560] Guessed Channel Layout: mono\n",
      "Input #1, wav, from 'output.wav':\n",
      "  Duration: 00:01:11.93, bitrate: 352 kb/s\n",
      "  Stream #1:0: Audio: pcm_s16le ([1][0][0][0] / 0x0001), 22050 Hz, mono, s16, 352 kb/s\n",
      "[Parsed_subtitles_0 @ 0x151705ec0] libass API version: 0x1701000\n",
      "[Parsed_subtitles_0 @ 0x151705ec0] libass source: tarball: 0.17.1\n",
      "[Parsed_subtitles_0 @ 0x151705ec0] Shaper: FriBidi 1.0.13 (SIMPLE) HarfBuzz-ng 9.0.0 (COMPLEX)\n",
      "[Parsed_subtitles_0 @ 0x151705ec0] Using font provider coretext\n",
      "[Parsed_subtitles_0 @ 0x151705ec0] libass wasn't built with ASS_FEATURE_WRAP_UNICODE support\n",
      "Stream mapping:\n",
      "  Stream #0:0 -> #0:0 (vp9 (native) -> h264 (libx264))\n",
      "  Stream #1:0 -> #0:1 (pcm_s16le (native) -> aac (native))\n",
      "Press [q] to stop, [?] for help\n",
      "[Parsed_subtitles_0 @ 0x1517094a0] libass API version: 0x1701000\n",
      "[Parsed_subtitles_0 @ 0x1517094a0] libass source: tarball: 0.17.1\n",
      "[Parsed_subtitles_0 @ 0x1517094a0] Shaper: FriBidi 1.0.13 (SIMPLE) HarfBuzz-ng 9.0.0 (COMPLEX)\n",
      "[Parsed_subtitles_0 @ 0x1517094a0] Using font provider coretext\n",
      "[Parsed_subtitles_0 @ 0x1517094a0] libass wasn't built with ASS_FEATURE_WRAP_UNICODE support\n",
      "[Parsed_subtitles_0 @ 0x1517094a0] fontselect: (Arial, 400, 0) -> /System/Library/Fonts/Supplemental/Arial.ttf, -1, ArialMT\n",
      "[libx264 @ 0x151604eb0] using cpu capabilities: ARMv8 NEON\n",
      "[libx264 @ 0x151604eb0] profile High, level 4.2, 4:2:0, 8-bit\n",
      "[libx264 @ 0x151604eb0] 264 - core 164 r3190 7ed753b - H.264/MPEG-4 AVC codec - Copyleft 2003-2024 - http://www.videolan.org/x264.html - options: cabac=1 ref=3 deblock=1:0:0 analyse=0x3:0x113 me=hex subme=7 psy=1 psy_rd=1.00:0.00 mixed_ref=1 me_range=16 chroma_me=1 trellis=1 8x8dct=1 cqm=0 deadzone=21,11 fast_pskip=1 chroma_qp_offset=-2 threads=12 lookahead_threads=2 sliced_threads=0 nr=0 decimate=1 interlaced=0 bluray_compat=0 constrained_intra=0 bframes=3 b_pyramid=2 b_adapt=1 b_bias=0 direct=1 weightb=1 open_gop=0 weightp=2 keyint=250 keyint_min=25 scenecut=40 intra_refresh=0 rc_lookahead=40 rc=crf mbtree=1 crf=23.0 qcomp=0.60 qpmin=0 qpmax=69 qpstep=4 ip_ratio=1.40 aq=1:1.00\n",
      "Output #0, mp4, to 'output_final.mp4':\n",
      "  Metadata:\n",
      "    major_brand     : dash\n",
      "    minor_version   : 0\n",
      "    compatible_brands: iso6mp41\n",
      "    encoder         : Lavf61.7.100\n",
      "  Stream #0:0(und): Video: h264 (avc1 / 0x31637661), yuv420p(tv, bt709, progressive), 1080x1920, q=2-31, 60 fps, 15360 tbn (default)\n",
      "      Metadata:\n",
      "        creation_time   : 2025-06-22T17:02:06.000000Z\n",
      "        handler_name    : ISO Media file produced by Google Inc. Created on: 06/22/2025.\n",
      "        vendor_id       : [0][0][0][0]\n",
      "        encoder         : Lavc61.19.100 libx264\n",
      "      Side data:\n",
      "        cpb: bitrate max/min/avg: 0/0/0 buffer size: 0 vbv_delay: N/A\n",
      "  Stream #0:1: Audio: aac (LC) (mp4a / 0x6134706D), 22050 Hz, mono, fltp, 69 kb/s\n",
      "      Metadata:\n",
      "        encoder         : Lavc61.19.100 aac\n",
      "frame= 4275 fps= 63 q=31.0 size=   84224KiB time=N/A bitrate=N/A speed=N/A    ts/s speed=1.04x      \r"
     ]
    },
    {
     "name": "stdout",
     "output_type": "stream",
     "text": [
      "✅ Final video saved to output_final.mp4\n"
     ]
    },
    {
     "name": "stderr",
     "output_type": "stream",
     "text": [
      "[out#0/mp4 @ 0x152017760] video:84527KiB audio:622KiB subtitle:0KiB other streams:0KiB global headers:0KiB muxing overhead: 0.084490%\n",
      "frame= 4316 fps= 63 q=-1.0 Lsize=   85221KiB time=00:01:11.90 bitrate=9709.8kbits/s speed=1.05x    \n",
      "[libx264 @ 0x151604eb0] frame I:18    Avg QP:23.86  size: 94372\n",
      "[libx264 @ 0x151604eb0] frame P:1926  Avg QP:26.74  size: 28392\n",
      "[libx264 @ 0x151604eb0] frame B:2372  Avg QP:28.59  size: 12721\n",
      "[libx264 @ 0x151604eb0] consecutive B-frames: 19.6% 14.4% 21.3% 44.8%\n",
      "[libx264 @ 0x151604eb0] mb I  I16..4: 21.7% 64.3% 14.1%\n",
      "[libx264 @ 0x151604eb0] mb P  I16..4: 10.6% 20.6%  1.3%  P16..4: 31.7%  5.8%  2.0%  0.0%  0.0%    skip:28.0%\n",
      "[libx264 @ 0x151604eb0] mb B  I16..4:  2.4%  3.6%  0.2%  B16..8: 33.6%  3.6%  0.5%  direct: 2.8%  skip:53.3%  L0:52.6% L1:43.6% BI: 3.8%\n",
      "[libx264 @ 0x151604eb0] 8x8 transform intra:62.4% inter:88.1%\n",
      "[libx264 @ 0x151604eb0] coded y,uvDC,uvAC intra: 25.3% 56.4% 17.0% inter: 9.5% 19.9% 1.3%\n",
      "[libx264 @ 0x151604eb0] i16 v,h,dc,p: 42% 27% 11% 21%\n",
      "[libx264 @ 0x151604eb0] i8 v,h,dc,ddl,ddr,vr,hd,vl,hu: 34% 15% 30%  3%  3%  6%  3%  5%  2%\n",
      "[libx264 @ 0x151604eb0] i4 v,h,dc,ddl,ddr,vr,hd,vl,hu: 38% 19% 17%  3%  5%  7%  5%  5%  3%\n",
      "[libx264 @ 0x151604eb0] i8c dc,h,v,p: 47% 17% 28%  7%\n",
      "[libx264 @ 0x151604eb0] Weighted P-Frames: Y:0.0% UV:0.0%\n",
      "[libx264 @ 0x151604eb0] ref P L0: 66.5% 14.6% 13.2%  5.7%\n",
      "[libx264 @ 0x151604eb0] ref B L0: 89.8%  8.3%  1.9%\n",
      "[libx264 @ 0x151604eb0] ref B L1: 97.8%  2.2%\n",
      "[libx264 @ 0x151604eb0] kb/s:9626.19\n",
      "[aac @ 0x152022a10] Qavg: 2720.691\n"
     ]
    }
   ],
   "source": [
    "import subprocess\n",
    "import imageio_ffmpeg\n",
    "\n",
    "def burn_audio_and_subtitles(video_path=\"subway.mp4\", audio_path=\"output.wav\", subtitle_path=\"output.srt\", output_path=\"output_final.mp4\"):\n",
    "    ffmpeg_path = imageio_ffmpeg.get_ffmpeg_exe()\n",
    "    \n",
    "    command = [\n",
    "        ffmpeg_path,\n",
    "        \"-i\", video_path,              # input video\n",
    "        \"-i\", audio_path,              # input audio\n",
    "        \"-vf\", f\"subtitles={subtitle_path}\",  # burn subtitles\n",
    "        \"-c:a\", \"aac\",                 # convert audio to AAC\n",
    "        \"-c:v\", \"libx264\",             # re-encode video to burn subs\n",
    "        \"-shortest\",                   # stop when shortest stream ends\n",
    "        output_path\n",
    "    ]\n",
    "\n",
    "    try:\n",
    "        subprocess.run(command, check=True)\n",
    "        print(f\"✅ Final video saved to {output_path}\")\n",
    "    except subprocess.CalledProcessError as e:\n",
    "        print(f\"❌ FFmpeg error: {e}\")\n",
    "\n",
    "# Run it\n",
    "burn_audio_and_subtitles()\n"
   ]
  }
 ],
 "metadata": {
  "kernelspec": {
   "display_name": "ig-reel-env",
   "language": "python",
   "name": "python3"
  },
  "language_info": {
   "codemirror_mode": {
    "name": "ipython",
    "version": 3
   },
   "file_extension": ".py",
   "mimetype": "text/x-python",
   "name": "python",
   "nbconvert_exporter": "python",
   "pygments_lexer": "ipython3",
   "version": "3.11.13"
  }
 },
 "nbformat": 4,
 "nbformat_minor": 5
}
