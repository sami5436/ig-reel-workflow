{
 "cells": [
  {
   "cell_type": "code",
   "execution_count": 1,
   "id": "dbb4044e",
   "metadata": {},
   "outputs": [],
   "source": [
    "import os\n",
    "import subprocess\n",
    "import google_auth_oauthlib.flow\n",
    "import googleapiclient.discovery\n",
    "import googleapiclient.errors\n",
    "from googleapiclient.http import MediaFileUpload\n",
    "from google_auth_oauthlib.flow import InstalledAppFlow\n",
    "from langchain_community.llms import Ollama # will be used for prompting\n",
    "from langchain.vectorstores import Chroma # will be used for vectordb store\n",
    "from langchain_ollama import OllamaEmbeddings\n",
    "from langchain.schema import Document # will be used to store text in vector store \n"
   ]
  },
  {
   "cell_type": "code",
   "execution_count": 2,
   "id": "fcba3c6d",
   "metadata": {},
   "outputs": [
    {
     "name": "stderr",
     "output_type": "stream",
     "text": [
      "/var/folders/90/p8kgtvm572d51cr90k19v_580000gn/T/ipykernel_25498/1332557208.py:1: LangChainDeprecationWarning: The class `Ollama` was deprecated in LangChain 0.3.1 and will be removed in 1.0.0. An updated version of the class exists in the :class:`~langchain-ollama package and should be used instead. To use it run `pip install -U :class:`~langchain-ollama` and import as `from :class:`~langchain_ollama import OllamaLLM``.\n",
      "  llm = Ollama(model=\"llama3\")\n",
      "/var/folders/90/p8kgtvm572d51cr90k19v_580000gn/T/ipykernel_25498/1332557208.py:4: LangChainDeprecationWarning: The class `Chroma` was deprecated in LangChain 0.2.9 and will be removed in 1.0. An updated version of the class exists in the :class:`~langchain-chroma package and should be used instead. To use it run `pip install -U :class:`~langchain-chroma` and import as `from :class:`~langchain_chroma import Chroma``.\n",
      "  db = Chroma(persist_directory=PERSIST_DIR, embedding_function=embedding)\n"
     ]
    }
   ],
   "source": [
    "llm = Ollama(model=\"llama3\")\n",
    "embedding = OllamaEmbeddings(model=\"llama3\")\n",
    "PERSIST_DIR = \"vectordb\"\n",
    "db = Chroma(persist_directory=PERSIST_DIR, embedding_function=embedding)"
   ]
  },
  {
   "cell_type": "code",
   "execution_count": 3,
   "id": "e69c4039",
   "metadata": {},
   "outputs": [],
   "source": [
    "def get_most_recent_unprocessed_idea(db):\n",
    "    results = db.get(include=[\"documents\", \"metadatas\"])\n",
    "\n",
    "    unprocessed = [\n",
    "        (meta[\"timestamp\"], Document(page_content=doc, metadata=meta))\n",
    "        for meta, doc in zip(results[\"metadatas\"], results[\"documents\"])\n",
    "        if not meta.get(\"processed\", False)\n",
    "    ]\n",
    "\n",
    "    if not unprocessed:\n",
    "        print(\"No unprocessed ideas found.\")\n",
    "        return None\n",
    "\n",
    "    unprocessed_sorted = sorted(unprocessed, key=lambda x: x[0], reverse=True)\n",
    "    _, document = unprocessed_sorted[0]\n",
    "\n",
    "    print(f\"Most recent unprocessed idea ID: {document.metadata.get('id')}\")\n",
    "    return document\n"
   ]
  },
  {
   "cell_type": "code",
   "execution_count": 4,
   "id": "9e50f740",
   "metadata": {},
   "outputs": [
    {
     "name": "stdout",
     "output_type": "stream",
     "text": [
      "Most recent unprocessed idea ID: 1b6c1749-2bfe-4078-bd43-1a660dec2099\n",
      "\"Hey, have you ever struggled with building a mobile app that can handle real-time analytics and data visualizations? Yeah, I know what it's like - it's like trying to solve a puzzle blindfolded! But fear not, my friends, because Amazon QuickSight is here to save the day. It's a fast, easy-to-use business intelligence service that lets you create stunning dashboards and reports in minutes. So why would you use something like this? Well, imagine you're building an app for sports teams to track their performance metrics - QuickSight makes it easy to visualize complex data and spot trends.\n",
      "\n",
      "To set it up, you can just upload your data and let the algorithms do the heavy lifting. No coding required! And did you know that many companies are already using QuickSight to gain insights from their data? Yeah, it's that powerful. So if you're building something cool with data and want to unlock its secrets, give Amazon QuickSight a try. Let me know in the comments below - what's your favorite way to visualize data or create business intelligence reports?\"\n"
     ]
    }
   ],
   "source": [
    "\n",
    "most_recent_idea = get_most_recent_unprocessed_idea(db)\n",
    "if most_recent_idea:\n",
    "    print(most_recent_idea.page_content) \n"
   ]
  },
  {
   "cell_type": "code",
   "execution_count": 5,
   "id": "59ea42df",
   "metadata": {},
   "outputs": [],
   "source": [
    "def generate_video_title(script):\n",
    "    llm = Ollama(model=\"llama3\")\n",
    "    response = llm.invoke(f\"You are a helpful assistant. You really know your stuff. Generate a title for the following script: {script} Keep it short and concise something liket this  AWS Tip: CloudFront Made Simple. I need to make sure it is something that will be interesting to the audience and only 6 words.Give me the title only, no other text. Nothing else. literally. choose the best title for the script. no quotes even just the text. please make sure no quotes or anything else. just the text.\")\n",
    "                        \n",
    "    return response\n",
    "\n",
    "def generate_video_description(script):\n",
    "    llm = Ollama(model=\"llama3\")\n",
    "    response = llm.invoke(f\"Generate a description for the following script: {script} Keep it short and concise something like this: Here's how CloudFront boosts your AWS app performance in seconds. Learn, deploy, repeat. #AWS #Tech. Do not include any other text. Nothing else. literally. choose the best description for the script. Choose the best description for the script. I only want one. Give me one response. no quotes even just the text. please make sure no quotes or anything else. just the text.\")\n",
    "    return response"
   ]
  },
  {
   "cell_type": "code",
   "execution_count": 6,
   "id": "ec40565a",
   "metadata": {},
   "outputs": [
    {
     "name": "stdout",
     "output_type": "stream",
     "text": [
      "Unleash Data Insights with Amazon QuickSight\n",
      "Solving data puzzles without coding required: Unlock Amazon QuickSight's insights with ease.\n"
     ]
    }
   ],
   "source": [
    "title = generate_video_title(most_recent_idea.page_content)\n",
    "description = generate_video_description(most_recent_idea.page_content)\n",
    "\n",
    "print(title)\n",
    "print(description)"
   ]
  },
  {
   "cell_type": "code",
   "execution_count": 7,
   "id": "78c44738",
   "metadata": {},
   "outputs": [],
   "source": [
    "def trim_video(input_path, output_path=\"output_to_be_up.mp4\", max_seconds=60):\n",
    "    subprocess.run([\n",
    "        \"ffmpeg\",\n",
    "        \"-i\", input_path,\n",
    "        \"-t\", str(max_seconds),\n",
    "        \"-vf\", \"scale=1080:1920\",  # Ensure vertical 9:16\n",
    "        \"-c:a\", \"aac\",\n",
    "        \"-c:v\", \"libx264\",\n",
    "        \"-preset\", \"ultrafast\",\n",
    "        output_path\n",
    "    ], check=True)\n",
    "    return output_path"
   ]
  },
  {
   "cell_type": "code",
   "execution_count": 8,
   "id": "6b333444",
   "metadata": {},
   "outputs": [],
   "source": [
    "def upload_to_youtube_short(video_path, title, description):\n",
    "    scopes = [\"https://www.googleapis.com/auth/youtube.upload\"]\n",
    "    \n",
    "    flow = InstalledAppFlow.from_client_secrets_file(\"client_secrets.json\", scopes)\n",
    "    creds = flow.run_local_server(port=0)\n",
    "\n",
    "\n",
    "    youtube = googleapiclient.discovery.build(\"youtube\", \"v3\", credentials=creds)\n",
    "\n",
    "    request_body = {\n",
    "        \"snippet\": {\n",
    "            \"categoryId\": \"22\",  \n",
    "            \"title\": f\"{title} #Shorts\",\n",
    "            \"description\": description\n",
    "        },\n",
    "        \"status\": {\n",
    "            \"privacyStatus\": \"public\"\n",
    "        }\n",
    "    }\n",
    "\n",
    "    media_file = MediaFileUpload(video_path)\n",
    "\n",
    "    request = youtube.videos().insert(\n",
    "        part=\"snippet,status\",\n",
    "        body=request_body,\n",
    "        media_body=media_file\n",
    "    )\n",
    "    \n",
    "    response = request.execute()\n",
    "    print(f\"Uploaded to: https://youtube.com/watch?v={response['id']}\")"
   ]
  },
  {
   "cell_type": "code",
   "execution_count": 9,
   "id": "a1dc4f08",
   "metadata": {},
   "outputs": [
    {
     "name": "stderr",
     "output_type": "stream",
     "text": [
      "ffmpeg version 7.1.1 Copyright (c) 2000-2025 the FFmpeg developers\n",
      "  built with Apple clang version 17.0.0 (clang-1700.0.13.3)\n",
      "  configuration: --prefix=/opt/homebrew/Cellar/ffmpeg/7.1.1_3 --enable-shared --enable-pthreads --enable-version3 --cc=clang --host-cflags= --host-ldflags='-Wl,-ld_classic' --enable-ffplay --enable-gnutls --enable-gpl --enable-libaom --enable-libaribb24 --enable-libbluray --enable-libdav1d --enable-libharfbuzz --enable-libjxl --enable-libmp3lame --enable-libopus --enable-librav1e --enable-librist --enable-librubberband --enable-libsnappy --enable-libsrt --enable-libssh --enable-libsvtav1 --enable-libtesseract --enable-libtheora --enable-libvidstab --enable-libvmaf --enable-libvorbis --enable-libvpx --enable-libwebp --enable-libx264 --enable-libx265 --enable-libxml2 --enable-libxvid --enable-lzma --enable-libfontconfig --enable-libfreetype --enable-frei0r --enable-libass --enable-libopencore-amrnb --enable-libopencore-amrwb --enable-libopenjpeg --enable-libspeex --enable-libsoxr --enable-libzmq --enable-libzimg --disable-libjack --disable-indev=jack --enable-videotoolbox --enable-audiotoolbox --enable-neon\n",
      "  libavutil      59. 39.100 / 59. 39.100\n",
      "  libavcodec     61. 19.101 / 61. 19.101\n",
      "  libavformat    61.  7.100 / 61.  7.100\n",
      "  libavdevice    61.  3.100 / 61.  3.100\n",
      "  libavfilter    10.  4.100 / 10.  4.100\n",
      "  libswscale      8.  3.100 /  8.  3.100\n",
      "  libswresample   5.  3.100 /  5.  3.100\n",
      "  libpostproc    58.  3.100 / 58.  3.100\n",
      "Input #0, mov,mp4,m4a,3gp,3g2,mj2, from 'output_final.mp4':\n",
      "  Metadata:\n",
      "    major_brand     : isom\n",
      "    minor_version   : 512\n",
      "    compatible_brands: isomiso2avc1mp41\n",
      "    encoder         : Lavf61.7.100\n",
      "  Duration: 00:00:57.53, start: 0.000000, bitrate: 9391 kb/s\n",
      "  Stream #0:0[0x1](eng): Video: h264 (High) (avc1 / 0x31637661), yuv420p(tv, bt709, progressive), 1080x1920 [SAR 1:1 DAR 9:16], 9278 kb/s, 60 fps, 60 tbr, 15360 tbn (default)\n",
      "      Metadata:\n",
      "        handler_name    : VideoHandler\n",
      "        vendor_id       : [0][0][0][0]\n",
      "        encoder         : Lavc61.19.100 libx264\n",
      "  Stream #0:1[0x2](und): Audio: aac (LC) (mp4a / 0x6134706D), 24000 Hz, mono, fltp, 103 kb/s (default)\n",
      "      Metadata:\n",
      "        handler_name    : SoundHandler\n",
      "        vendor_id       : [0][0][0][0]\n",
      "Stream mapping:\n",
      "  Stream #0:0 -> #0:0 (h264 (native) -> h264 (libx264))\n",
      "  Stream #0:1 -> #0:1 (aac (native) -> aac (native))\n",
      "Press [q] to stop, [?] for help\n",
      "[libx264 @ 0x1276086e0] using SAR=1/1\n",
      "[libx264 @ 0x1276086e0] using cpu capabilities: ARMv8 NEON\n",
      "[libx264 @ 0x1276086e0] profile Constrained Baseline, level 4.2, 4:2:0, 8-bit\n",
      "[libx264 @ 0x1276086e0] 264 - core 164 r3108 31e19f9 - H.264/MPEG-4 AVC codec - Copyleft 2003-2023 - http://www.videolan.org/x264.html - options: cabac=0 ref=1 deblock=0:0:0 analyse=0:0 me=dia subme=0 psy=1 psy_rd=1.00:0.00 mixed_ref=0 me_range=16 chroma_me=1 trellis=0 8x8dct=0 cqm=0 deadzone=21,11 fast_pskip=1 chroma_qp_offset=0 threads=12 lookahead_threads=2 sliced_threads=0 nr=0 decimate=1 interlaced=0 bluray_compat=0 constrained_intra=0 bframes=0 weightp=0 keyint=250 keyint_min=25 scenecut=0 intra_refresh=0 rc=crf mbtree=0 crf=23.0 qcomp=0.60 qpmin=0 qpmax=69 qpstep=4 ip_ratio=1.40 aq=0\n",
      "Output #0, mp4, to 'output_to_be_up.mp4':\n",
      "  Metadata:\n",
      "    major_brand     : isom\n",
      "    minor_version   : 512\n",
      "    compatible_brands: isomiso2avc1mp41\n",
      "    encoder         : Lavf61.7.100\n",
      "  Stream #0:0(eng): Video: h264 (avc1 / 0x31637661), yuv420p(tv, bt709, progressive), 1080x1920 [SAR 1:1 DAR 9:16], q=2-31, 60 fps, 15360 tbn (default)\n",
      "      Metadata:\n",
      "        handler_name    : VideoHandler\n",
      "        vendor_id       : [0][0][0][0]\n",
      "        encoder         : Lavc61.19.101 libx264\n",
      "      Side data:\n",
      "        cpb: bitrate max/min/avg: 0/0/0 buffer size: 0 vbv_delay: N/A\n",
      "  Stream #0:1(und): Audio: aac (LC) (mp4a / 0x6134706D), 24000 Hz, mono, fltp, 69 kb/s (default)\n",
      "      Metadata:\n",
      "        handler_name    : SoundHandler\n",
      "        vendor_id       : [0][0][0][0]\n",
      "        encoder         : Lavc61.19.101 aac\n",
      "[out#0/mp4 @ 0x127607830] video:120226KiB audio:533KiB subtitle:0KiB other streams:0KiB global headers:0KiB muxing overhead: 0.036763%\n",
      "frame= 3452 fps=399 q=-1.0 Lsize=  120803KiB time=00:00:57.00 bitrate=17360.9kbits/s speed= 6.6x    \n",
      "[libx264 @ 0x1276086e0] frame I:14    Avg QP:23.36  size:169654\n",
      "[libx264 @ 0x1276086e0] frame P:3438  Avg QP:26.40  size: 35118\n",
      "[libx264 @ 0x1276086e0] mb I  I16..4: 100.0%  0.0%  0.0%\n",
      "[libx264 @ 0x1276086e0] mb P  I16..4: 17.2%  0.0%  0.0%  P16..4: 35.8%  0.0%  0.0%  0.0%  0.0%    skip:46.9%\n",
      "[libx264 @ 0x1276086e0] coded y,uvDC,uvAC intra: 20.1% 48.3% 16.5% inter: 15.2% 22.5% 2.9%\n",
      "[libx264 @ 0x1276086e0] i16 v,h,dc,p: 47% 23% 14% 16%\n",
      "[libx264 @ 0x1276086e0] i8c dc,h,v,p: 35% 20% 32% 13%\n",
      "[libx264 @ 0x1276086e0] kb/s:17118.48\n",
      "[aac @ 0x127784f30] Qavg: 1895.647\n"
     ]
    },
    {
     "name": "stdout",
     "output_type": "stream",
     "text": [
      "Please visit this URL to authorize this application: https://accounts.google.com/o/oauth2/auth?response_type=code&client_id=142192968968-ocfps0dpa665h9glnfis4mlhmlt34abi.apps.googleusercontent.com&redirect_uri=http%3A%2F%2Flocalhost%3A61703%2F&scope=https%3A%2F%2Fwww.googleapis.com%2Fauth%2Fyoutube.upload&state=Ft304CnvUBcgzTtOuftIIG5gZsJ1TV&access_type=offline\n",
      "✅ Uploaded to: https://youtube.com/watch?v=d-E4wpEHywo\n"
     ]
    }
   ],
   "source": [
    "# === USAGE ===\n",
    "trimmed_path = trim_video(\"output_final.mp4\")  # or use your full path here\n",
    "upload_to_youtube_short(\n",
    "    video_path=trimmed_path,\n",
    "    title=title,\n",
    "    description=description\n",
    ")"
   ]
  },
  {
   "cell_type": "code",
   "execution_count": 10,
   "id": "eaac56e3",
   "metadata": {},
   "outputs": [
    {
     "name": "stdout",
     "output_type": "stream",
     "text": [
      "🗑️ Deleted: ./output_to_be_up.mp4\n",
      "🗑️ Deleted: ./output_final.mp4\n",
      "🗑️ Deleted: ./subway.mp4\n",
      "🗑️ Deleted: ./output.srt\n",
      "🗑️ Deleted: ./output.wav\n"
     ]
    }
   ],
   "source": [
    "def delete_output_and_subway_files(directory=\".\"):\n",
    "    for filename in os.listdir(directory):\n",
    "        if filename.startswith(\"output\") or filename.startswith(\"subway\"):\n",
    "            file_path = os.path.join(directory, filename)\n",
    "            if os.path.isfile(file_path):\n",
    "                os.remove(file_path)\n",
    "                print(f\"Deleted: {file_path}\")\n",
    "\n",
    "# Run it\n",
    "delete_output_and_subway_files()\n"
   ]
  }
 ],
 "metadata": {
  "kernelspec": {
   "display_name": "ig-reel-env",
   "language": "python",
   "name": "python3"
  },
  "language_info": {
   "codemirror_mode": {
    "name": "ipython",
    "version": 3
   },
   "file_extension": ".py",
   "mimetype": "text/x-python",
   "name": "python",
   "nbconvert_exporter": "python",
   "pygments_lexer": "ipython3",
   "version": "3.11.13"
  }
 },
 "nbformat": 4,
 "nbformat_minor": 5
}
