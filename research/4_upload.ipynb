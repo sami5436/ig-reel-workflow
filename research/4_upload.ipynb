{
 "cells": [
  {
   "cell_type": "code",
   "execution_count": 1,
   "id": "dbb4044e",
   "metadata": {},
   "outputs": [],
   "source": [
    "import os\n",
    "import subprocess\n",
    "import google_auth_oauthlib.flow\n",
    "import googleapiclient.discovery\n",
    "import googleapiclient.errors\n",
    "from googleapiclient.http import MediaFileUpload\n",
    "from google_auth_oauthlib.flow import InstalledAppFlow\n",
    "\n"
   ]
  },
  {
   "cell_type": "code",
   "execution_count": 2,
   "id": "78c44738",
   "metadata": {},
   "outputs": [],
   "source": [
    "def trim_video(input_path, output_path=\"output_to_be_up.mp4\", max_seconds=60):\n",
    "    subprocess.run([\n",
    "        \"ffmpeg\",\n",
    "        \"-i\", input_path,\n",
    "        \"-t\", str(max_seconds),\n",
    "        \"-vf\", \"scale=1080:1920\",  # Ensure vertical 9:16\n",
    "        \"-c:a\", \"aac\",\n",
    "        \"-c:v\", \"libx264\",\n",
    "        \"-preset\", \"ultrafast\",\n",
    "        output_path\n",
    "    ], check=True)\n",
    "    print(f\"✅ Trimmed video to 60s: {output_path}\")\n",
    "    return output_path"
   ]
  },
  {
   "cell_type": "code",
   "execution_count": 3,
   "id": "6b333444",
   "metadata": {},
   "outputs": [],
   "source": [
    "def upload_to_youtube_short(video_path, title, description):\n",
    "    scopes = [\"https://www.googleapis.com/auth/youtube.upload\"]\n",
    "    \n",
    "    flow = InstalledAppFlow.from_client_secrets_file(\"client_secrets.json\", scopes)\n",
    "    creds = flow.run_local_server(port=0)\n",
    "\n",
    "\n",
    "    youtube = googleapiclient.discovery.build(\"youtube\", \"v3\", credentials=creds)\n",
    "\n",
    "    request_body = {\n",
    "        \"snippet\": {\n",
    "            \"categoryId\": \"22\",  # Category: People & Blogs\n",
    "            \"title\": f\"{title} #Shorts\",\n",
    "            \"description\": description\n",
    "        },\n",
    "        \"status\": {\n",
    "            \"privacyStatus\": \"public\"\n",
    "        }\n",
    "    }\n",
    "\n",
    "    media_file = MediaFileUpload(video_path)\n",
    "\n",
    "    request = youtube.videos().insert(\n",
    "        part=\"snippet,status\",\n",
    "        body=request_body,\n",
    "        media_body=media_file\n",
    "    )\n",
    "    \n",
    "    response = request.execute()\n",
    "    print(f\"✅ Uploaded to: https://youtube.com/watch?v={response['id']}\")"
   ]
  },
  {
   "cell_type": "code",
   "execution_count": 4,
   "id": "a1dc4f08",
   "metadata": {},
   "outputs": [
    {
     "name": "stderr",
     "output_type": "stream",
     "text": [
      "ffmpeg version 7.1.1 Copyright (c) 2000-2025 the FFmpeg developers\n",
      "  built with Apple clang version 17.0.0 (clang-1700.0.13.3)\n",
      "  configuration: --prefix=/opt/homebrew/Cellar/ffmpeg/7.1.1_3 --enable-shared --enable-pthreads --enable-version3 --cc=clang --host-cflags= --host-ldflags='-Wl,-ld_classic' --enable-ffplay --enable-gnutls --enable-gpl --enable-libaom --enable-libaribb24 --enable-libbluray --enable-libdav1d --enable-libharfbuzz --enable-libjxl --enable-libmp3lame --enable-libopus --enable-librav1e --enable-librist --enable-librubberband --enable-libsnappy --enable-libsrt --enable-libssh --enable-libsvtav1 --enable-libtesseract --enable-libtheora --enable-libvidstab --enable-libvmaf --enable-libvorbis --enable-libvpx --enable-libwebp --enable-libx264 --enable-libx265 --enable-libxml2 --enable-libxvid --enable-lzma --enable-libfontconfig --enable-libfreetype --enable-frei0r --enable-libass --enable-libopencore-amrnb --enable-libopencore-amrwb --enable-libopenjpeg --enable-libspeex --enable-libsoxr --enable-libzmq --enable-libzimg --disable-libjack --disable-indev=jack --enable-videotoolbox --enable-audiotoolbox --enable-neon\n",
      "  libavutil      59. 39.100 / 59. 39.100\n",
      "  libavcodec     61. 19.101 / 61. 19.101\n",
      "  libavformat    61.  7.100 / 61.  7.100\n",
      "  libavdevice    61.  3.100 / 61.  3.100\n",
      "  libavfilter    10.  4.100 / 10.  4.100\n",
      "  libswscale      8.  3.100 /  8.  3.100\n",
      "  libswresample   5.  3.100 /  5.  3.100\n",
      "  libpostproc    58.  3.100 / 58.  3.100\n",
      "Input #0, mov,mp4,m4a,3gp,3g2,mj2, from 'output_final.mp4':\n",
      "  Metadata:\n",
      "    major_brand     : isom\n",
      "    minor_version   : 512\n",
      "    compatible_brands: isomiso2avc1mp41\n",
      "    encoder         : Lavf61.7.100\n",
      "  Duration: 00:00:46.41, start: 0.000000, bitrate: 9926 kb/s\n",
      "  Stream #0:0[0x1](und): Video: h264 (High) (avc1 / 0x31637661), yuv420p(tv, bt709, progressive), 1080x1920, 9848 kb/s, 60 fps, 60 tbr, 15360 tbn (default)\n",
      "      Metadata:\n",
      "        handler_name    : ISO Media file produced by Google Inc. Created on: 06/22/2025.\n",
      "        vendor_id       : [0][0][0][0]\n",
      "        encoder         : Lavc61.19.100 libx264\n",
      "  Stream #0:1[0x2](und): Audio: aac (LC) (mp4a / 0x6134706D), 22050 Hz, mono, fltp, 71 kb/s (default)\n",
      "      Metadata:\n",
      "        handler_name    : SoundHandler\n",
      "        vendor_id       : [0][0][0][0]\n",
      "Stream mapping:\n",
      "  Stream #0:0 -> #0:0 (h264 (native) -> h264 (libx264))\n",
      "  Stream #0:1 -> #0:1 (aac (native) -> aac (native))\n",
      "Press [q] to stop, [?] for help\n",
      "[libx264 @ 0x131e21810] using cpu capabilities: ARMv8 NEON\n",
      "[libx264 @ 0x131e21810] profile Constrained Baseline, level 4.2, 4:2:0, 8-bit\n",
      "[libx264 @ 0x131e21810] 264 - core 164 r3108 31e19f9 - H.264/MPEG-4 AVC codec - Copyleft 2003-2023 - http://www.videolan.org/x264.html - options: cabac=0 ref=1 deblock=0:0:0 analyse=0:0 me=dia subme=0 psy=1 psy_rd=1.00:0.00 mixed_ref=0 me_range=16 chroma_me=1 trellis=0 8x8dct=0 cqm=0 deadzone=21,11 fast_pskip=1 chroma_qp_offset=0 threads=12 lookahead_threads=2 sliced_threads=0 nr=0 decimate=1 interlaced=0 bluray_compat=0 constrained_intra=0 bframes=0 weightp=0 keyint=250 keyint_min=25 scenecut=0 intra_refresh=0 rc=crf mbtree=0 crf=23.0 qcomp=0.60 qpmin=0 qpmax=69 qpstep=4 ip_ratio=1.40 aq=0\n",
      "Output #0, mp4, to 'output_to_be_up.mp4':\n",
      "  Metadata:\n",
      "    major_brand     : isom\n",
      "    minor_version   : 512\n",
      "    compatible_brands: isomiso2avc1mp41\n",
      "    encoder         : Lavf61.7.100\n",
      "  Stream #0:0(und): Video: h264 (avc1 / 0x31637661), yuv420p(tv, bt709, progressive), 1080x1920, q=2-31, 60 fps, 15360 tbn (default)\n",
      "      Metadata:\n",
      "        handler_name    : ISO Media file produced by Google Inc. Created on: 06/22/2025.\n",
      "        vendor_id       : [0][0][0][0]\n",
      "        encoder         : Lavc61.19.101 libx264\n",
      "      Side data:\n",
      "        cpb: bitrate max/min/avg: 0/0/0 buffer size: 0 vbv_delay: N/A\n",
      "  Stream #0:1(und): Audio: aac (LC) (mp4a / 0x6134706D), 22050 Hz, mono, fltp, 69 kb/s (default)\n",
      "      Metadata:\n",
      "        handler_name    : SoundHandler\n",
      "        vendor_id       : [0][0][0][0]\n",
      "        encoder         : Lavc61.19.101 aac\n",
      "[out#0/mp4 @ 0x131e209c0] video:98660KiB audio:406KiB subtitle:0KiB other streams:0KiB global headers:0KiB muxing overhead: 0.029361%\n",
      "frame= 2784 fps=339 q=-1.0 Lsize=   99095KiB time=00:00:46.40 bitrate=17495.4kbits/s speed=5.65x    \n",
      "[libx264 @ 0x131e21810] frame I:12    Avg QP:23.50  size:152143\n",
      "[libx264 @ 0x131e21810] frame P:2772  Avg QP:26.62  size: 35787\n",
      "[libx264 @ 0x131e21810] mb I  I16..4: 100.0%  0.0%  0.0%\n",
      "[libx264 @ 0x131e21810] mb P  I16..4: 18.4%  0.0%  0.0%  P16..4: 37.9%  0.0%  0.0%  0.0%  0.0%    skip:43.7%\n",
      "[libx264 @ 0x131e21810] coded y,uvDC,uvAC intra: 18.8% 46.3% 14.6% inter: 16.2% 23.2% 2.5%\n",
      "[libx264 @ 0x131e21810] i16 v,h,dc,p: 47% 22% 15% 16%\n",
      "[libx264 @ 0x131e21810] i8c dc,h,v,p: 35% 19% 32% 13%\n",
      "[libx264 @ 0x131e21810] kb/s:17418.44\n",
      "[aac @ 0x1331582b0] Qavg: 3751.257\n"
     ]
    },
    {
     "name": "stdout",
     "output_type": "stream",
     "text": [
      "✅ Trimmed video to 60s: output_to_be_up.mp4\n",
      "Please visit this URL to authorize this application: https://accounts.google.com/o/oauth2/auth?response_type=code&client_id=142192968968-ocfps0dpa665h9glnfis4mlhmlt34abi.apps.googleusercontent.com&redirect_uri=http%3A%2F%2Flocalhost%3A54054%2F&scope=https%3A%2F%2Fwww.googleapis.com%2Fauth%2Fyoutube.upload&state=vm2gZWkb5ogHFDcaI8bcN9AK6QqOkh&access_type=offline\n",
      "✅ Uploaded to: https://youtube.com/watch?v=sSbs6qIXTyM\n"
     ]
    }
   ],
   "source": [
    "# === USAGE ===\n",
    "trimmed_path = trim_video(\"output_final.mp4\")  # or use your full path here\n",
    "upload_to_youtube_short(\n",
    "    video_path=trimmed_path,\n",
    "    title=\"AWS Tip: CloudFront Made Simple\",\n",
    "    description=\"Here's how CloudFront boosts your AWS app performance in seconds. Learn, deploy, repeat. #AWS #Tech\"\n",
    ")"
   ]
  },
  {
   "cell_type": "code",
   "execution_count": 5,
   "id": "eaac56e3",
   "metadata": {},
   "outputs": [
    {
     "name": "stdout",
     "output_type": "stream",
     "text": [
      "🗑️ Deleted: ./output_to_be_up.mp4\n",
      "🗑️ Deleted: ./output_final.mp4\n",
      "🗑️ Deleted: ./subway.mp4\n",
      "🗑️ Deleted: ./output_raw.wav\n",
      "🗑️ Deleted: ./output.srt\n",
      "🗑️ Deleted: ./output.wav\n"
     ]
    }
   ],
   "source": [
    "import os\n",
    "\n",
    "def delete_output_and_subway_files(directory=\".\"):\n",
    "    for filename in os.listdir(directory):\n",
    "        if filename.startswith(\"output\") or filename.startswith(\"subway\"):\n",
    "            file_path = os.path.join(directory, filename)\n",
    "            if os.path.isfile(file_path):\n",
    "                os.remove(file_path)\n",
    "                print(f\"🗑️ Deleted: {file_path}\")\n",
    "\n",
    "# Run it\n",
    "delete_output_and_subway_files()\n"
   ]
  }
 ],
 "metadata": {
  "kernelspec": {
   "display_name": "ig-reel-env",
   "language": "python",
   "name": "python3"
  },
  "language_info": {
   "codemirror_mode": {
    "name": "ipython",
    "version": 3
   },
   "file_extension": ".py",
   "mimetype": "text/x-python",
   "name": "python",
   "nbconvert_exporter": "python",
   "pygments_lexer": "ipython3",
   "version": "3.11.13"
  }
 },
 "nbformat": 4,
 "nbformat_minor": 5
}
